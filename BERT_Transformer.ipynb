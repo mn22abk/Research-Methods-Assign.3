{
  "cells": [
    {
      "cell_type": "markdown",
      "metadata": {
        "id": "view-in-github",
        "colab_type": "text"
      },
      "source": [
        "<a href=\"https://colab.research.google.com/github/mn22abk/Research-Methods-Assign.3/blob/main/BERT_Transformer.ipynb\" target=\"_parent\"><img src=\"https://colab.research.google.com/assets/colab-badge.svg\" alt=\"Open In Colab\"/></a>"
      ]
    },
    {
      "cell_type": "markdown",
      "id": "53cbbd64",
      "metadata": {
        "id": "53cbbd64"
      },
      "source": [
        "### Cell 1: Importing Libraries\n",
        "\n",
        "This cell imports necessary libraries including `BertTokenizer`, `BertModel`, `torch`, and `numpy`."
      ]
    },
    {
      "cell_type": "code",
      "execution_count": null,
      "id": "48800736",
      "metadata": {
        "id": "48800736"
      },
      "outputs": [],
      "source": [
        "!pip install torch"
      ]
    },
    {
      "cell_type": "code",
      "execution_count": null,
      "id": "d59b4a89",
      "metadata": {
        "scrolled": true,
        "id": "d59b4a89"
      },
      "outputs": [],
      "source": [
        "# from transformers import BertTokenizer, BertModel\n",
        "from transformers import BertTokenizer, BertModel\n",
        "import torch\n",
        "import numpy as np\n",
        "import warnings\n",
        "warnings.filterwarnings(\"ignore\", category=UserWarning)"
      ]
    },
    {
      "cell_type": "markdown",
      "id": "6609215d",
      "metadata": {
        "id": "6609215d"
      },
      "source": [
        "### Cell 2: Loading Pre-trained BERT Tokenizer\n",
        "\n",
        "In this cell, the pre-trained BERT tokenizer (`bert-base-uncased`) is loaded using `BertTokenizer.from_pretrained()` method."
      ]
    },
    {
      "cell_type": "code",
      "execution_count": null,
      "id": "e369dc31",
      "metadata": {
        "id": "e369dc31"
      },
      "outputs": [],
      "source": [
        "# Load pre-trained BERT tokenizer\n",
        "tokenizer = BertTokenizer.from_pretrained(\"bert-base-uncased\")"
      ]
    },
    {
      "cell_type": "markdown",
      "id": "14f9e84c",
      "metadata": {
        "id": "14f9e84c"
      },
      "source": [
        "### Cell 3: Tokenizing Input Text\n",
        "\n",
        "This cell tokenizes the input text \"Hello, how are you?\" using the loaded tokenizer. It then converts tokens to token IDs, adds special tokens `[CLS]` and `[SEP]`, and converts them to a tensor."
      ]
    },
    {
      "cell_type": "code",
      "execution_count": null,
      "id": "4bca4070",
      "metadata": {
        "id": "4bca4070"
      },
      "outputs": [],
      "source": [
        "# Tokenize input text\n",
        "text = \"Hello, how are you?\"\n",
        "tokens = tokenizer.tokenize(text)\n",
        "\n",
        "# Convert tokens to token IDs\n",
        "token_ids = tokenizer.convert_tokens_to_ids(tokens)\n",
        "\n",
        "# Add special tokens [CLS] and [SEP]\n",
        "token_ids = [tokenizer.cls_token_id] + token_ids + [tokenizer.sep_token_id]\n",
        "\n",
        "# Convert token IDs to tensor\n",
        "input_ids = torch.tensor(token_ids)"
      ]
    },
    {
      "cell_type": "markdown",
      "id": "4d52ac90",
      "metadata": {
        "id": "4d52ac90"
      },
      "source": [
        "### Cell 4: Loading Pre-trained BERT Model and Forward Pass\n",
        "\n",
        "In this cell, the pre-trained BERT model (`bert-base-uncased`) is loaded using `BertModel.from_pretrained()` method. It performs a forward pass through the model to get outputs."
      ]
    },
    {
      "cell_type": "code",
      "execution_count": null,
      "id": "451ed0c6",
      "metadata": {
        "id": "451ed0c6"
      },
      "outputs": [],
      "source": [
        "# Load pre-trained BERT model\n",
        "model = BertModel.from_pretrained(\"bert-base-uncased\")\n",
        "\n",
        "# Forward pass through the model\n",
        "with torch.no_grad():\n",
        "    outputs = model(input_ids.unsqueeze(0))  # Add batch dimension"
      ]
    },
    {
      "cell_type": "markdown",
      "id": "da3e871e",
      "metadata": {
        "id": "da3e871e"
      },
      "source": [
        "### Cell 5: Extracting Hidden States and Printing Shape\n",
        "\n",
        "This cell extracts the hidden states (embeddings) from the outputs and prints the shape of the hidden states tensor."
      ]
    },
    {
      "cell_type": "code",
      "execution_count": null,
      "id": "aa9e8292",
      "metadata": {
        "id": "aa9e8292"
      },
      "outputs": [],
      "source": [
        "# Get the hidden states (embeddings)\n",
        "hidden_states = outputs.last_hidden_state\n",
        "\n",
        "# Print the hidden states tensor and its shape\n",
        "print(hidden_states)\n",
        "print(hidden_states.shape)  # Shape of the output embeddings"
      ]
    },
    {
      "cell_type": "markdown",
      "id": "fca218a2",
      "metadata": {
        "id": "fca218a2"
      },
      "source": [
        "### Cell 6: Converting Hidden States to NumPy Array\n",
        "\n",
        "Here, the hidden states tensor is converted to a NumPy array and the batch dimension is removed. The shape of the NumPy array is printed."
      ]
    },
    {
      "cell_type": "code",
      "execution_count": null,
      "id": "27b4a547",
      "metadata": {
        "id": "27b4a547"
      },
      "outputs": [],
      "source": [
        "# Convert hidden states tensor to NumPy array\n",
        "hidden_states_np = hidden_states.numpy().squeeze(0)  # Remove the batch dimension\n",
        "print(hidden_states_np.shape)"
      ]
    },
    {
      "cell_type": "markdown",
      "id": "75449f59",
      "metadata": {
        "id": "75449f59"
      },
      "source": [
        "### Cell 7: Converting Token IDs to Tokens and Reconstructing Original Text\n",
        "\n",
        "This cell converts token IDs back to tokens using the tokenizer's `convert_ids_to_tokens()` function. It then reconstructs the original input text from tokens and prints it."
      ]
    },
    {
      "cell_type": "code",
      "execution_count": null,
      "id": "f8da9f76",
      "metadata": {
        "id": "f8da9f76"
      },
      "outputs": [],
      "source": [
        "# Convert token IDs to tokens using the tokenizer's convert_ids_to_tokens function\n",
        "tokens = tokenizer.convert_ids_to_tokens(token_ids)\n",
        "\n",
        "# Reconstruct the original input text from the tokens\n",
        "original_text = tokenizer.convert_tokens_to_string(tokens)\n",
        "print(\"Original Text:\", original_text)"
      ]
    },
    {
      "cell_type": "code",
      "execution_count": null,
      "id": "dc0aaa63",
      "metadata": {
        "id": "dc0aaa63"
      },
      "outputs": [],
      "source": []
    }
  ],
  "metadata": {
    "kernelspec": {
      "display_name": "Python 3 (ipykernel)",
      "language": "python",
      "name": "python3"
    },
    "language_info": {
      "codemirror_mode": {
        "name": "ipython",
        "version": 3
      },
      "file_extension": ".py",
      "mimetype": "text/x-python",
      "name": "python",
      "nbconvert_exporter": "python",
      "pygments_lexer": "ipython3",
      "version": "3.9.13"
    },
    "colab": {
      "provenance": [],
      "include_colab_link": true
    }
  },
  "nbformat": 4,
  "nbformat_minor": 5
}