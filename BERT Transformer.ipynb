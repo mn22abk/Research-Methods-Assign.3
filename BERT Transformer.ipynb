{
 "cells": [
  {
   "cell_type": "markdown",
   "id": "53cbbd64",
   "metadata": {},
   "source": [
    "### Cell 1: Importing Libraries\n",
    "\n",
    "This cell imports necessary libraries including `BertTokenizer`, `BertModel`, `torch`, and `numpy`."
   ]
  },
  {
   "cell_type": "code",
   "execution_count": 15,
   "id": "48800736",
   "metadata": {},
   "outputs": [
    {
     "name": "stdout",
     "output_type": "stream",
     "text": [
      "Defaulting to user installation because normal site-packages is not writeable\n",
      "Requirement already satisfied: torch in c:\\users\\dell\\appdata\\roaming\\python\\python311\\site-packages (2.2.2)\n",
      "Requirement already satisfied: filelock in c:\\programdata\\anaconda3\\lib\\site-packages (from torch) (3.9.0)\n",
      "Requirement already satisfied: typing-extensions>=4.8.0 in c:\\users\\dell\\appdata\\roaming\\python\\python311\\site-packages (from torch) (4.11.0)\n",
      "Requirement already satisfied: sympy in c:\\programdata\\anaconda3\\lib\\site-packages (from torch) (1.11.1)\n",
      "Requirement already satisfied: networkx in c:\\programdata\\anaconda3\\lib\\site-packages (from torch) (3.1)\n",
      "Requirement already satisfied: jinja2 in c:\\programdata\\anaconda3\\lib\\site-packages (from torch) (3.1.2)\n",
      "Requirement already satisfied: fsspec in c:\\programdata\\anaconda3\\lib\\site-packages (from torch) (2023.4.0)\n",
      "Requirement already satisfied: MarkupSafe>=2.0 in c:\\programdata\\anaconda3\\lib\\site-packages (from jinja2->torch) (2.1.1)\n",
      "Requirement already satisfied: mpmath>=0.19 in c:\\programdata\\anaconda3\\lib\\site-packages (from sympy->torch) (1.3.0)\n"
     ]
    }
   ],
   "source": [
    "!pip install torch"
   ]
  },
  {
   "cell_type": "code",
   "execution_count": 16,
   "id": "d59b4a89",
   "metadata": {
    "scrolled": true
   },
   "outputs": [],
   "source": [
    "# from transformers import BertTokenizer, BertModel\n",
    "from transformers import BertTokenizer, BertModel\n",
    "import torch\n",
    "import numpy as np\n",
    "import warnings\n",
    "warnings.filterwarnings(\"ignore\", category=UserWarning)"
   ]
  },
  {
   "cell_type": "markdown",
   "id": "6609215d",
   "metadata": {},
   "source": [
    "### Cell 2: Loading Pre-trained BERT Tokenizer\n",
    "\n",
    "In this cell, the pre-trained BERT tokenizer (`bert-base-uncased`) is loaded using `BertTokenizer.from_pretrained()` method."
   ]
  },
  {
   "cell_type": "code",
   "execution_count": 17,
   "id": "e369dc31",
   "metadata": {},
   "outputs": [],
   "source": [
    "# Load pre-trained BERT tokenizer\n",
    "tokenizer = BertTokenizer.from_pretrained(\"bert-base-uncased\")"
   ]
  },
  {
   "cell_type": "markdown",
   "id": "14f9e84c",
   "metadata": {},
   "source": [
    "### Cell 3: Tokenizing Input Text\n",
    "\n",
    "This cell tokenizes the input text \"Hello, how are you?\" using the loaded tokenizer. It then converts tokens to token IDs, adds special tokens `[CLS]` and `[SEP]`, and converts them to a tensor."
   ]
  },
  {
   "cell_type": "code",
   "execution_count": 18,
   "id": "4bca4070",
   "metadata": {},
   "outputs": [],
   "source": [
    "# Tokenize input text\n",
    "text = \"Hello, how are you?\"\n",
    "tokens = tokenizer.tokenize(text)\n",
    "\n",
    "# Convert tokens to token IDs\n",
    "token_ids = tokenizer.convert_tokens_to_ids(tokens)\n",
    "\n",
    "# Add special tokens [CLS] and [SEP]\n",
    "token_ids = [tokenizer.cls_token_id] + token_ids + [tokenizer.sep_token_id]\n",
    "\n",
    "# Convert token IDs to tensor\n",
    "input_ids = torch.tensor(token_ids)"
   ]
  },
  {
   "cell_type": "markdown",
   "id": "4d52ac90",
   "metadata": {},
   "source": [
    "### Cell 4: Loading Pre-trained BERT Model and Forward Pass\n",
    "\n",
    "In this cell, the pre-trained BERT model (`bert-base-uncased`) is loaded using `BertModel.from_pretrained()` method. It performs a forward pass through the model to get outputs."
   ]
  },
  {
   "cell_type": "code",
   "execution_count": 19,
   "id": "451ed0c6",
   "metadata": {},
   "outputs": [],
   "source": [
    "# Load pre-trained BERT model\n",
    "model = BertModel.from_pretrained(\"bert-base-uncased\")\n",
    "\n",
    "# Forward pass through the model\n",
    "with torch.no_grad():\n",
    "    outputs = model(input_ids.unsqueeze(0))  # Add batch dimension"
   ]
  },
  {
   "cell_type": "markdown",
   "id": "da3e871e",
   "metadata": {},
   "source": [
    "### Cell 5: Extracting Hidden States and Printing Shape\n",
    "\n",
    "This cell extracts the hidden states (embeddings) from the outputs and prints the shape of the hidden states tensor."
   ]
  },
  {
   "cell_type": "code",
   "execution_count": 20,
   "id": "aa9e8292",
   "metadata": {},
   "outputs": [
    {
     "name": "stdout",
     "output_type": "stream",
     "text": [
      "tensor([[[-0.0824,  0.0667, -0.2880,  ..., -0.3566,  0.1960,  0.5381],\n",
      "         [ 0.0310, -0.1448,  0.0952,  ..., -0.1560,  1.0151,  0.0947],\n",
      "         [-0.8935,  0.3240,  0.4184,  ..., -0.5498,  0.2853,  0.1149],\n",
      "         ...,\n",
      "         [-0.2812, -0.8531,  0.6912,  ..., -0.5051,  0.4716, -0.6854],\n",
      "         [-0.4429, -0.7820, -0.8055,  ...,  0.1949,  0.1081,  0.0130],\n",
      "         [ 0.5570, -0.1080, -0.2412,  ...,  0.2817, -0.3996, -0.1882]]])\n",
      "torch.Size([1, 8, 768])\n"
     ]
    }
   ],
   "source": [
    "# Get the hidden states (embeddings)\n",
    "hidden_states = outputs.last_hidden_state\n",
    "\n",
    "# Print the hidden states tensor and its shape\n",
    "print(hidden_states)\n",
    "print(hidden_states.shape)  # Shape of the output embeddings"
   ]
  },
  {
   "cell_type": "markdown",
   "id": "fca218a2",
   "metadata": {},
   "source": [
    "### Cell 6: Converting Hidden States to NumPy Array\n",
    "\n",
    "Here, the hidden states tensor is converted to a NumPy array and the batch dimension is removed. The shape of the NumPy array is printed."
   ]
  },
  {
   "cell_type": "code",
   "execution_count": 21,
   "id": "27b4a547",
   "metadata": {},
   "outputs": [
    {
     "name": "stdout",
     "output_type": "stream",
     "text": [
      "(8, 768)\n"
     ]
    }
   ],
   "source": [
    "# Convert hidden states tensor to NumPy array\n",
    "hidden_states_np = hidden_states.numpy().squeeze(0)  # Remove the batch dimension\n",
    "print(hidden_states_np.shape)"
   ]
  },
  {
   "cell_type": "markdown",
   "id": "75449f59",
   "metadata": {},
   "source": [
    "### Cell 7: Converting Token IDs to Tokens and Reconstructing Original Text\n",
    "\n",
    "This cell converts token IDs back to tokens using the tokenizer's `convert_ids_to_tokens()` function. It then reconstructs the original input text from tokens and prints it."
   ]
  },
  {
   "cell_type": "code",
   "execution_count": 22,
   "id": "f8da9f76",
   "metadata": {},
   "outputs": [
    {
     "name": "stdout",
     "output_type": "stream",
     "text": [
      "Original Text: [CLS] hello , how are you ? [SEP]\n"
     ]
    }
   ],
   "source": [
    "# Convert token IDs to tokens using the tokenizer's convert_ids_to_tokens function\n",
    "tokens = tokenizer.convert_ids_to_tokens(token_ids)\n",
    "\n",
    "# Reconstruct the original input text from the tokens\n",
    "original_text = tokenizer.convert_tokens_to_string(tokens)\n",
    "print(\"Original Text:\", original_text)"
   ]
  }
 ],
 "metadata": {
  "kernelspec": {
   "display_name": "Python 3 (ipykernel)",
   "language": "python",
   "name": "python3"
  },
  "language_info": {
   "codemirror_mode": {
    "name": "ipython",
    "version": 3
   },
   "file_extension": ".py",
   "mimetype": "text/x-python",
   "name": "python",
   "nbconvert_exporter": "python",
   "pygments_lexer": "ipython3",
   "version": "3.11.5"
  }
 },
 "nbformat": 4,
 "nbformat_minor": 5
}
