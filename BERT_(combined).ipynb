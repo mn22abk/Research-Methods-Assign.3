{
  "cells": [
    {
      "cell_type": "markdown",
      "metadata": {
        "id": "view-in-github",
        "colab_type": "text"
      },
      "source": [
        "<a href=\"https://colab.research.google.com/github/mn22abk/Research-Methods-Assign.3/blob/main/BERT_(combined).ipynb\" target=\"_parent\"><img src=\"https://colab.research.google.com/assets/colab-badge.svg\" alt=\"Open In Colab\"/></a>"
      ]
    },
    {
      "cell_type": "markdown",
      "id": "D2JiK68O6nlI",
      "metadata": {
        "id": "D2JiK68O6nlI"
      },
      "source": [
        "BERT Transformer.ipynb"
      ]
    },
    {
      "cell_type": "markdown",
      "id": "53cbbd64",
      "metadata": {
        "id": "53cbbd64"
      },
      "source": [
        "### Cell 1: Importing Libraries\n",
        "\n",
        "This cell imports necessary libraries including `BertTokenizer`, `BertModel`, `torch`, and `numpy`."
      ]
    },
    {
      "cell_type": "code",
      "execution_count": null,
      "id": "48800736",
      "metadata": {
        "colab": {
          "base_uri": "https://localhost:8080/"
        },
        "id": "48800736",
        "outputId": "91faa370-548e-4eb0-c53f-c4738ef0159c"
      },
      "outputs": [
        {
          "name": "stdout",
          "output_type": "stream",
          "text": [
            "Requirement already satisfied: torch in d:\\anaconda\\lib\\site-packages (2.2.2)\n",
            "Requirement already satisfied: typing-extensions>=4.8.0 in d:\\anaconda\\lib\\site-packages (from torch) (4.11.0)\n",
            "Requirement already satisfied: jinja2 in d:\\anaconda\\lib\\site-packages (from torch) (2.11.3)\n",
            "Requirement already satisfied: fsspec in d:\\anaconda\\lib\\site-packages (from torch) (2022.7.1)\n",
            "Requirement already satisfied: filelock in d:\\anaconda\\lib\\site-packages (from torch) (3.6.0)\n",
            "Requirement already satisfied: networkx in d:\\anaconda\\lib\\site-packages (from torch) (2.8.4)\n",
            "Requirement already satisfied: sympy in d:\\anaconda\\lib\\site-packages (from torch) (1.10.1)\n",
            "Requirement already satisfied: MarkupSafe>=0.23 in d:\\anaconda\\lib\\site-packages (from jinja2->torch) (2.0.1)\n",
            "Requirement already satisfied: mpmath>=0.19 in d:\\anaconda\\lib\\site-packages (from sympy->torch) (1.2.1)\n"
          ]
        }
      ],
      "source": [
        "!pip install torch"
      ]
    },
    {
      "cell_type": "code",
      "execution_count": null,
      "id": "d59b4a89",
      "metadata": {
        "id": "d59b4a89",
        "scrolled": true,
        "outputId": "1766f74c-adce-4e86-a5e2-693e6aaca3f9"
      },
      "outputs": [
        {
          "ename": "ModuleNotFoundError",
          "evalue": "No module named 'transformers'",
          "output_type": "error",
          "traceback": [
            "\u001b[1;31m---------------------------------------------------------------------------\u001b[0m",
            "\u001b[1;31mModuleNotFoundError\u001b[0m                       Traceback (most recent call last)",
            "\u001b[1;32m~\\AppData\\Local\\Temp\\ipykernel_1996\\4025271326.py\u001b[0m in \u001b[0;36m<module>\u001b[1;34m\u001b[0m\n\u001b[0;32m      1\u001b[0m \u001b[1;31m# from transformers import BertTokenizer, BertModel\u001b[0m\u001b[1;33m\u001b[0m\u001b[1;33m\u001b[0m\u001b[0m\n\u001b[1;32m----> 2\u001b[1;33m \u001b[1;32mfrom\u001b[0m \u001b[0mtransformers\u001b[0m \u001b[1;32mimport\u001b[0m \u001b[0mBertTokenizer\u001b[0m\u001b[1;33m,\u001b[0m \u001b[0mBertModel\u001b[0m\u001b[1;33m\u001b[0m\u001b[1;33m\u001b[0m\u001b[0m\n\u001b[0m\u001b[0;32m      3\u001b[0m \u001b[1;32mimport\u001b[0m \u001b[0mtorch\u001b[0m\u001b[1;33m\u001b[0m\u001b[1;33m\u001b[0m\u001b[0m\n\u001b[0;32m      4\u001b[0m \u001b[1;32mimport\u001b[0m \u001b[0mnumpy\u001b[0m \u001b[1;32mas\u001b[0m \u001b[0mnp\u001b[0m\u001b[1;33m\u001b[0m\u001b[1;33m\u001b[0m\u001b[0m\n\u001b[0;32m      5\u001b[0m \u001b[1;32mimport\u001b[0m \u001b[0mwarnings\u001b[0m\u001b[1;33m\u001b[0m\u001b[1;33m\u001b[0m\u001b[0m\n",
            "\u001b[1;31mModuleNotFoundError\u001b[0m: No module named 'transformers'"
          ]
        }
      ],
      "source": [
        "# from transformers import BertTokenizer, BertModel\n",
        "from transformers import BertTokenizer, BertModel\n",
        "import torch\n",
        "import numpy as np\n",
        "import warnings\n",
        "warnings.filterwarnings(\"ignore\", category=UserWarning)"
      ]
    },
    {
      "cell_type": "markdown",
      "id": "6609215d",
      "metadata": {
        "id": "6609215d"
      },
      "source": [
        "### Cell 2: Loading Pre-trained BERT Tokenizer\n",
        "\n",
        "In this cell, the pre-trained BERT tokenizer (`bert-base-uncased`) is loaded using `BertTokenizer.from_pretrained()` method."
      ]
    },
    {
      "cell_type": "code",
      "execution_count": null,
      "id": "e369dc31",
      "metadata": {
        "colab": {
          "base_uri": "https://localhost:8080/",
          "height": 145,
          "referenced_widgets": [
            "132fb8f985bb447a82ad5ff700edb1be",
            "aca29a8bf2ff409eb848908b7a46ec98",
            "ca96a3871d544d59b5b9782a9a6d4a97",
            "b8a08744ffd0491e9ea8f40519a2a402",
            "23d0f24190324945b992bcfc1f1fb5b3",
            "422d3b553e2e4a50a9d3f475d153f2c1",
            "7baa4bcc4c514f93a12a30f21aa3ffb6",
            "34e4fd5006eb4b8ebccdb5b7f14766bc",
            "79b6cf8cec024a138405e9b0fc65b298",
            "b3a627af61844f5592e954cf9d344799",
            "d7bc16e29276448298e8d0a867a0fffe",
            "9e293e1a2d4d47729d23f422fa85356b",
            "1824a54d9b994795a813541ddbb2ec75",
            "f29af2d9a42746beaa3158a7688ee092",
            "6bba9f30dc82401ea661e12a70254aec",
            "c34a859c43a44e97b967532022cd21d6",
            "cb6233baa4774adda6eb8fe91c198371",
            "16f072e20ca34dcdabcbb019ac87cfe6",
            "8c94f736f03a4e0ebca043e5860e6403",
            "4dddff1a036b43a9b160a45378ffa2c0",
            "aa39a25188044bf69a63ccec2c209d9d",
            "60a5770d0f87403c9d5e8ff31311914e",
            "d57ea2d5ff50467d9a2bb3ceb49b8c78",
            "904d5872e5c24085af7b20667fa76d67",
            "bf0fd8a79e4441bb9ef5d233aeb96053",
            "4c7e56db49f2440c9f62bb91cf828da0",
            "85901ec72b1b43669bfb0a72990c37ff",
            "ff279e4c278143ee92f3f63ff75bb50f",
            "55f5ae2d262843b7b87bb1eb5397cbec",
            "acd3cfa28b234324b97d5656622ea1a4",
            "17c90b9695b34299b088840bbfd05750",
            "5090399569b24a17a997d31879a308bf",
            "287b2a0dd1954a09a871adc13e34e353",
            "52c0eab9d0ee40f581bd8bcf56349ab3",
            "c3e5bbc1263b41ba8cccd18d0b3ad7d1",
            "3acc447d95904caeb7abc97a1af128e3",
            "c41f16347a1c4d15b252e83fce1cf119",
            "fc7f29c877144ec3816f574937f89d3d",
            "b461b48f0c7e495daf9d40fd0e7056ef",
            "f35a5dd3cbfe4838a965eefa9d675db4",
            "15d60d34286b468289db51850ebb2fa6",
            "a320e445fdda475daacd9d873d437ff3",
            "24bc48c6cff346e28c4c97d1a39dbb9e",
            "da10e1504c2b478f99c38ba4fbf8c5f4"
          ]
        },
        "id": "e369dc31",
        "outputId": "eb3519f6-68cf-4aac-aa52-45424d2fb2a6"
      },
      "outputs": [
        {
          "ename": "NameError",
          "evalue": "name 'BertTokenizer' is not defined",
          "output_type": "error",
          "traceback": [
            "\u001b[1;31m---------------------------------------------------------------------------\u001b[0m",
            "\u001b[1;31mNameError\u001b[0m                                 Traceback (most recent call last)",
            "\u001b[1;32m~\\AppData\\Local\\Temp\\ipykernel_1996\\2963471724.py\u001b[0m in \u001b[0;36m<module>\u001b[1;34m\u001b[0m\n\u001b[0;32m      1\u001b[0m \u001b[1;31m# Load pre-trained BERT tokenizer\u001b[0m\u001b[1;33m\u001b[0m\u001b[1;33m\u001b[0m\u001b[0m\n\u001b[1;32m----> 2\u001b[1;33m \u001b[0mtokenizer\u001b[0m \u001b[1;33m=\u001b[0m \u001b[0mBertTokenizer\u001b[0m\u001b[1;33m.\u001b[0m\u001b[0mfrom_pretrained\u001b[0m\u001b[1;33m(\u001b[0m\u001b[1;34m\"bert-base-uncased\"\u001b[0m\u001b[1;33m)\u001b[0m\u001b[1;33m\u001b[0m\u001b[1;33m\u001b[0m\u001b[0m\n\u001b[0m",
            "\u001b[1;31mNameError\u001b[0m: name 'BertTokenizer' is not defined"
          ]
        }
      ],
      "source": [
        "# Load pre-trained BERT tokenizer\n",
        "tokenizer = BertTokenizer.from_pretrained(\"bert-base-uncased\")"
      ]
    },
    {
      "cell_type": "markdown",
      "id": "14f9e84c",
      "metadata": {
        "id": "14f9e84c"
      },
      "source": [
        "### Cell 3: Tokenizing Input Text\n",
        "\n",
        "This cell tokenizes the input text \"Hello, how are you?\" using the loaded tokenizer. It then converts tokens to token IDs, adds special tokens `[CLS]` and `[SEP]`, and converts them to a tensor."
      ]
    },
    {
      "cell_type": "code",
      "execution_count": null,
      "id": "4bca4070",
      "metadata": {
        "id": "4bca4070"
      },
      "outputs": [],
      "source": [
        "# Tokenize input text\n",
        "text = \"Hello, how are you?\"\n",
        "tokens = tokenizer.tokenize(text)\n",
        "\n",
        "# Convert tokens to token IDs\n",
        "token_ids = tokenizer.convert_tokens_to_ids(tokens)\n",
        "\n",
        "# Add special tokens [CLS] and [SEP]\n",
        "token_ids = [tokenizer.cls_token_id] + token_ids + [tokenizer.sep_token_id]\n",
        "\n",
        "# Convert token IDs to tensor\n",
        "input_ids = torch.tensor(token_ids)"
      ]
    },
    {
      "cell_type": "markdown",
      "id": "4d52ac90",
      "metadata": {
        "id": "4d52ac90"
      },
      "source": [
        "### Cell 4: Loading Pre-trained BERT Model and Forward Pass\n",
        "\n",
        "In this cell, the pre-trained BERT model (`bert-base-uncased`) is loaded using `BertModel.from_pretrained()` method. It performs a forward pass through the model to get outputs."
      ]
    },
    {
      "cell_type": "code",
      "execution_count": null,
      "id": "451ed0c6",
      "metadata": {
        "id": "451ed0c6"
      },
      "outputs": [],
      "source": [
        "# Load pre-trained BERT model\n",
        "model = BertModel.from_pretrained(\"bert-base-uncased\")\n",
        "\n",
        "# Forward pass through the model\n",
        "with torch.no_grad():\n",
        "    outputs = model(input_ids.unsqueeze(0))  # Add batch dimension"
      ]
    },
    {
      "cell_type": "markdown",
      "id": "da3e871e",
      "metadata": {
        "id": "da3e871e"
      },
      "source": [
        "### Cell 5: Extracting Hidden States and Printing Shape\n",
        "\n",
        "This cell extracts the hidden states (embeddings) from the outputs and prints the shape of the hidden states tensor."
      ]
    },
    {
      "cell_type": "code",
      "execution_count": null,
      "id": "aa9e8292",
      "metadata": {
        "id": "aa9e8292"
      },
      "outputs": [],
      "source": [
        "# Get the hidden states (embeddings)\n",
        "hidden_states = outputs.last_hidden_state\n",
        "\n",
        "# Print the hidden states tensor and its shape\n",
        "print(hidden_states)\n",
        "print(hidden_states.shape)  # Shape of the output embeddings"
      ]
    },
    {
      "cell_type": "markdown",
      "id": "fca218a2",
      "metadata": {
        "id": "fca218a2"
      },
      "source": [
        "### Cell 6: Converting Hidden States to NumPy Array\n",
        "\n",
        "Here, the hidden states tensor is converted to a NumPy array and the batch dimension is removed. The shape of the NumPy array is printed."
      ]
    },
    {
      "cell_type": "code",
      "execution_count": null,
      "id": "27b4a547",
      "metadata": {
        "id": "27b4a547"
      },
      "outputs": [],
      "source": [
        "# Convert hidden states tensor to NumPy array\n",
        "hidden_states_np = hidden_states.numpy().squeeze(0)  # Remove the batch dimension\n",
        "print(hidden_states_np.shape)"
      ]
    },
    {
      "cell_type": "markdown",
      "id": "75449f59",
      "metadata": {
        "id": "75449f59"
      },
      "source": [
        "### Cell 7: Converting Token IDs to Tokens and Reconstructing Original Text\n",
        "\n",
        "This cell converts token IDs back to tokens using the tokenizer's `convert_ids_to_tokens()` function. It then reconstructs the original input text from tokens and prints it."
      ]
    },
    {
      "cell_type": "code",
      "execution_count": null,
      "id": "f8da9f76",
      "metadata": {
        "id": "f8da9f76"
      },
      "outputs": [],
      "source": [
        "# Convert token IDs to tokens using the tokenizer's convert_ids_to_tokens function\n",
        "tokens = tokenizer.convert_ids_to_tokens(token_ids)\n",
        "\n",
        "# Reconstruct the original input text from the tokens\n",
        "original_text = tokenizer.convert_tokens_to_string(tokens)\n",
        "print(\"Original Text:\", original_text)"
      ]
    },
    {
      "cell_type": "markdown",
      "id": "sSf86sXH6yOk",
      "metadata": {
        "id": "sSf86sXH6yOk"
      },
      "source": [
        "Fine Tuned MLM.ipynb"
      ]
    },
    {
      "cell_type": "markdown",
      "id": "416177b8",
      "metadata": {
        "id": "416177b8"
      },
      "source": [
        "### Cell 1: Installing Transformers Library\n",
        "\n",
        "This cell installs the `transformers` library using pip. The Transformers library is necessary for working with pre-trained models provided by Hugging Face for various natural language processing tasks."
      ]
    },
    {
      "cell_type": "code",
      "execution_count": null,
      "id": "cd8c5d8a",
      "metadata": {
        "id": "cd8c5d8a"
      },
      "outputs": [],
      "source": [
        "! pip install transformers"
      ]
    },
    {
      "cell_type": "markdown",
      "id": "5b9a2053",
      "metadata": {
        "id": "5b9a2053"
      },
      "source": [
        "### Cell 2: Using Sentiment Analysis Pipeline\n",
        "\n",
        "This cell demonstrates the use of the sentiment analysis pipeline provided by the `transformers` library. It loads a pre-trained sentiment analysis model using the `pipeline` function and analyzes the sentiment of a single input text."
      ]
    },
    {
      "cell_type": "code",
      "execution_count": null,
      "id": "3f9501c4",
      "metadata": {
        "id": "3f9501c4"
      },
      "outputs": [],
      "source": [
        "from transformers import pipeline\n",
        "classifier = pipeline('sentiment-analysis', model='distilbert-base-uncased-finetuned-sst-2-english')"
      ]
    },
    {
      "cell_type": "code",
      "execution_count": null,
      "id": "a764191d",
      "metadata": {
        "id": "a764191d"
      },
      "outputs": [],
      "source": [
        "classifier('We are very happy for the holiday of Eid.')"
      ]
    },
    {
      "cell_type": "code",
      "execution_count": null,
      "id": "b8592b18",
      "metadata": {
        "id": "b8592b18"
      },
      "outputs": [],
      "source": [
        "classifier('My first job was not good because of tight schedule.')"
      ]
    },
    {
      "cell_type": "markdown",
      "id": "21ada437",
      "metadata": {
        "id": "21ada437"
      },
      "source": [
        "### Cell 5: Performing Sentiment Analysis on Multiple Texts\n",
        "\n",
        "This cell extends the sentiment analysis task to handle multiple input texts at once. It uses the same sentiment analysis pipeline to analyze the sentiment of multiple input texts and prints the results."
      ]
    },
    {
      "cell_type": "code",
      "execution_count": null,
      "id": "REZyNUMl7zAK",
      "metadata": {
        "id": "REZyNUMl7zAK"
      },
      "outputs": [],
      "source": [
        "results = classifier([\"We are very happy to show you the 🤗 Transformers library.\",\n",
        "           \"We hope you don't hate it.\"])\n",
        "for result in results:\n",
        "    print(f\"label: {result['label']}, with score: {round(result['score'], 4)}\")"
      ]
    },
    {
      "cell_type": "markdown",
      "id": "vpuXk7s-8EuU",
      "metadata": {
        "id": "vpuXk7s-8EuU"
      },
      "source": [
        "Training Mid-Size LM.ipynb"
      ]
    },
    {
      "cell_type": "markdown",
      "id": "wGMWbz1IcvP_",
      "metadata": {
        "id": "wGMWbz1IcvP_"
      },
      "source": [
        "### Cell 1: Installing simpletransformers\n",
        "\n",
        "In this cell, the `simpletransformers` package is installed using the following command:"
      ]
    },
    {
      "cell_type": "code",
      "execution_count": null,
      "id": "GClIr_-qX6OL",
      "metadata": {
        "id": "GClIr_-qX6OL"
      },
      "outputs": [],
      "source": [
        "!pip install simpletransformers"
      ]
    },
    {
      "cell_type": "markdown",
      "id": "8BzsqhL68jbB",
      "metadata": {
        "id": "8BzsqhL68jbB"
      },
      "source": [
        "### Cell 2: Loading Data from JSON File\n",
        "\n",
        "In this cell, data is loaded from a JSON file named \"train.json\" using the `json.load()` method."
      ]
    },
    {
      "cell_type": "code",
      "execution_count": null,
      "id": "3SZo6mRnYivr",
      "metadata": {
        "id": "3SZo6mRnYivr"
      },
      "outputs": [],
      "source": [
        "import json\n",
        "with open(r\"train.json\", \"r\") as read_file:\n",
        "    train = json.load(read_file)"
      ]
    },
    {
      "cell_type": "code",
      "execution_count": null,
      "id": "rhqHMAZkBAU1",
      "metadata": {
        "id": "rhqHMAZkBAU1"
      },
      "outputs": [],
      "source": [
        "from google.colab import drive\n",
        "drive.mount('/content/drive')"
      ]
    },
    {
      "cell_type": "code",
      "execution_count": null,
      "id": "zoiQlW1lZCzu",
      "metadata": {
        "id": "zoiQlW1lZCzu"
      },
      "outputs": [],
      "source": [
        "train"
      ]
    },
    {
      "cell_type": "markdown",
      "id": "-1ubvqj98jbC",
      "metadata": {
        "id": "-1ubvqj98jbC"
      },
      "source": [
        "### Cell 4: Loading Data from JSON File\n",
        "\n",
        "In this cell, data is loaded from a JSON file named \"test.json\" using the `json.load()` method."
      ]
    },
    {
      "cell_type": "code",
      "execution_count": null,
      "id": "Zcf9395xZD7N",
      "metadata": {
        "id": "Zcf9395xZD7N"
      },
      "outputs": [],
      "source": [
        "with open(r\"test.json\", \"r\") as read_file:\n",
        "    test = json.load(read_file)"
      ]
    },
    {
      "cell_type": "code",
      "execution_count": null,
      "id": "ENWqJL1eZH4e",
      "metadata": {
        "id": "ENWqJL1eZH4e"
      },
      "outputs": [],
      "source": [
        "test"
      ]
    },
    {
      "cell_type": "markdown",
      "id": "sB_aI4R38jbD",
      "metadata": {
        "id": "sB_aI4R38jbD"
      },
      "source": [
        "### Cell 6: Setting up Question Answering Model\n",
        "\n",
        "In this cell, the necessary libraries are imported and user warnings of the `UserWarning` category are ignored using the `warnings.filterwarnings(\"ignore\", category=UserWarning)` method."
      ]
    },
    {
      "cell_type": "code",
      "execution_count": null,
      "id": "1fYyYz_cZI7v",
      "metadata": {
        "id": "1fYyYz_cZI7v"
      },
      "outputs": [],
      "source": [
        "import logging\n",
        "import warnings\n",
        "warnings.filterwarnings(\"ignore\", category=UserWarning)\n",
        "\n",
        "from simpletransformers.question_answering import QuestionAnsweringModel, QuestionAnsweringArgs"
      ]
    },
    {
      "cell_type": "markdown",
      "id": "76qMlgWB8jbE",
      "metadata": {
        "id": "76qMlgWB8jbE"
      },
      "source": [
        "### Cell 7: Selecting Pretrained Model\n",
        "\n",
        "In this cell, a pretrained model is selected based on the specified `model_type`."
      ]
    },
    {
      "cell_type": "code",
      "execution_count": null,
      "id": "o2GXJIZshpoz",
      "metadata": {
        "id": "o2GXJIZshpoz"
      },
      "outputs": [],
      "source": [
        "model_type=\"bert\"\n",
        "model_name= \"bert-base-cased\"\n",
        "if model_type == \"bert\":\n",
        "    model_name = \"bert-base-cased\"\n",
        "\n",
        "elif model_type == \"roberta\":\n",
        "    model_name = \"roberta-base\"\n",
        "\n",
        "elif model_type == \"distilbert\":\n",
        "    model_name = \"distilbert-base-cased\"\n",
        "\n",
        "elif model_type == \"distilroberta\":\n",
        "    model_type = \"roberta\"\n",
        "    model_name = \"distilroberta-base\"\n",
        "\n",
        "elif model_type == \"electra-base\":\n",
        "    model_type = \"electra\"\n",
        "    model_name = \"google/electra-base-discriminator\"\n",
        "\n",
        "elif model_type == \"electra-small\":\n",
        "    model_type = \"electra\"\n",
        "    model_name = \"google/electra-small-discriminator\"\n",
        "\n",
        "elif model_type == \"xlnet\":\n",
        "    model_name = \"xlnet-base-cased\""
      ]
    },
    {
      "cell_type": "markdown",
      "id": "nddbabhs8jbE",
      "metadata": {
        "id": "nddbabhs8jbE"
      },
      "source": [
        "### Cell 8: Configuring the Model\n",
        "\n",
        "In this cell, the model is configured with specific settings using `QuestionAnsweringArgs()`."
      ]
    },
    {
      "cell_type": "code",
      "execution_count": null,
      "id": "QRdwLRNdZWWd",
      "metadata": {
        "id": "QRdwLRNdZWWd"
      },
      "outputs": [],
      "source": [
        "# Configure the model\n",
        "model_args = QuestionAnsweringArgs()\n",
        "model_args.train_batch_size = 16\n",
        "model_args.evaluate_during_training = True\n",
        "model_args.n_best_size=3\n",
        "model_args.num_train_epochs=8"
      ]
    },
    {
      "cell_type": "markdown",
      "id": "HAHKIbiJ8jbF",
      "metadata": {
        "id": "HAHKIbiJ8jbF"
      },
      "source": [
        "### Cell 9: Advanced Training Methodology\n",
        "\n",
        "In this cell, advanced training methodology is defined using a dictionary named `train_args`."
      ]
    },
    {
      "cell_type": "code",
      "execution_count": null,
      "id": "d6BA_Dr4iIsI",
      "metadata": {
        "id": "d6BA_Dr4iIsI"
      },
      "outputs": [],
      "source": [
        "### Advanced Methodology\n",
        "train_args = {\n",
        "    \"reprocess_input_data\": True,\n",
        "    \"overwrite_output_dir\": True,\n",
        "    \"use_cached_eval_features\": True,\n",
        "    \"output_dir\": f\"outputs/{model_type}\",\n",
        "    \"best_model_dir\": f\"outputs/{model_type}/best_model\",\n",
        "    \"evaluate_during_training\": True,\n",
        "    \"max_seq_length\": 128,\n",
        "    \"num_train_epochs\": 8,\n",
        "    \"evaluate_during_training_steps\": 1000,\n",
        "    \"wandb_project\": \"Question Answer Application\",\n",
        "    \"wandb_kwargs\": {\"name\": model_name},\n",
        "    \"save_model_every_epoch\": False,\n",
        "    \"save_eval_checkpoints\": False,\n",
        "    \"n_best_size\":3,\n",
        "    \"train_batch_size\": 128,\n",
        "    \"eval_batch_size\": 64,\n",
        "}"
      ]
    },
    {
      "cell_type": "markdown",
      "id": "gvfuzOFJ8jbF",
      "metadata": {
        "id": "gvfuzOFJ8jbF"
      },
      "source": [
        "### Cell 10: Initializing Question Answering Model\n",
        "\n",
        "In this cell, a Question Answering Model is initialized using the specified `model_type`, `model_name`, and training arguments (`train_args`)."
      ]
    },
    {
      "cell_type": "code",
      "execution_count": null,
      "id": "l03UlJEeZdWs",
      "metadata": {
        "id": "l03UlJEeZdWs"
      },
      "outputs": [],
      "source": [
        "model = QuestionAnsweringModel(\n",
        "    model_type,model_name, args=train_args, use_cuda=False\n",
        ")"
      ]
    },
    {
      "cell_type": "code",
      "execution_count": null,
      "id": "OqZs8sp-amuQ",
      "metadata": {
        "id": "OqZs8sp-amuQ"
      },
      "outputs": [],
      "source": [
        "### Remove output folder\n",
        "!rm -rf outputs"
      ]
    },
    {
      "cell_type": "markdown",
      "id": "9v5mLRhN8jbG",
      "metadata": {
        "id": "9v5mLRhN8jbG"
      },
      "source": [
        "### Cell 12: Training the Model\n",
        "\n",
        "In this cell, the initialized model is trained using the `train` data and evaluated on the `test` data."
      ]
    },
    {
      "cell_type": "code",
      "execution_count": null,
      "id": "XhAXYugxZfP-",
      "metadata": {
        "id": "XhAXYugxZfP-"
      },
      "outputs": [],
      "source": [
        "# Train the model\n",
        "model.train_model(train, eval_data=test)"
      ]
    },
    {
      "cell_type": "markdown",
      "id": "iiE7EMQo8jbG",
      "metadata": {
        "id": "iiE7EMQo8jbG"
      },
      "source": [
        "### Cell 13: Evaluating the Model\n",
        "\n",
        "In this cell, the trained model is evaluated on the `test` data."
      ]
    },
    {
      "cell_type": "code",
      "execution_count": null,
      "id": "ACoBHtQ1ZoKX",
      "metadata": {
        "id": "ACoBHtQ1ZoKX"
      },
      "outputs": [],
      "source": [
        "# Evaluate the model\n",
        "result, texts = model.eval_model(test)"
      ]
    },
    {
      "cell_type": "markdown",
      "id": "6B7Krq068jbG",
      "metadata": {
        "id": "6B7Krq068jbG"
      },
      "source": [
        "### Cell 14: Making Predictions with the Model\n",
        "\n",
        "In this cell, predictions are made using the trained model on the given context and questions."
      ]
    },
    {
      "cell_type": "code",
      "execution_count": null,
      "id": "QHHaVaD_Z9mM",
      "metadata": {
        "id": "QHHaVaD_Z9mM"
      },
      "outputs": [],
      "source": [
        "# Make predictions with the model\n",
        "to_predict = [\n",
        "    {\n",
        "        \"context\": \"Vin is a Mistborn of great power and skill.\",\n",
        "        \"qas\": [\n",
        "            {\n",
        "                \"question\": \"What is Vin's speciality?\",\n",
        "                \"id\": \"0\",\n",
        "            }\n",
        "        ],\n",
        "    }\n",
        "]"
      ]
    },
    {
      "cell_type": "markdown",
      "id": "4IOL2y4M8jbH",
      "metadata": {
        "id": "4IOL2y4M8jbH"
      },
      "source": [
        "### Cell 15: Generating Predictions\n",
        "\n",
        "In this cell, predictions are generated using the trained model on the provided input."
      ]
    },
    {
      "cell_type": "code",
      "execution_count": null,
      "id": "MHi55xYHaCzB",
      "metadata": {
        "id": "MHi55xYHaCzB"
      },
      "outputs": [],
      "source": [
        "answers, probabilities = model.predict(to_predict)\n",
        "\n",
        "print(answers)"
      ]
    }
  ],
  "metadata": {
    "colab": {
      "provenance": [],
      "include_colab_link": true
    },
    "kernelspec": {
      "display_name": "Python 3 (ipykernel)",
      "language": "python",
      "name": "python3"
    },
    "language_info": {
      "codemirror_mode": {
        "name": "ipython",
        "version": 3
      },
      "file_extension": ".py",
      "mimetype": "text/x-python",
      "name": "python",
      "nbconvert_exporter": "python",
      "pygments_lexer": "ipython3",
      "version": "3.9.13"
    },
    "widgets": {
      "application/vnd.jupyter.widget-state+json": {
        "132fb8f985bb447a82ad5ff700edb1be": {
          "model_module": "@jupyter-widgets/controls",
          "model_module_version": "1.5.0",
          "model_name": "HBoxModel",
          "state": {
            "_dom_classes": [],
            "_model_module": "@jupyter-widgets/controls",
            "_model_module_version": "1.5.0",
            "_model_name": "HBoxModel",
            "_view_count": null,
            "_view_module": "@jupyter-widgets/controls",
            "_view_module_version": "1.5.0",
            "_view_name": "HBoxView",
            "box_style": "",
            "children": [
              "IPY_MODEL_aca29a8bf2ff409eb848908b7a46ec98",
              "IPY_MODEL_ca96a3871d544d59b5b9782a9a6d4a97",
              "IPY_MODEL_b8a08744ffd0491e9ea8f40519a2a402"
            ],
            "layout": "IPY_MODEL_23d0f24190324945b992bcfc1f1fb5b3"
          }
        },
        "15d60d34286b468289db51850ebb2fa6": {
          "model_module": "@jupyter-widgets/base",
          "model_module_version": "1.2.0",
          "model_name": "LayoutModel",
          "state": {
            "_model_module": "@jupyter-widgets/base",
            "_model_module_version": "1.2.0",
            "_model_name": "LayoutModel",
            "_view_count": null,
            "_view_module": "@jupyter-widgets/base",
            "_view_module_version": "1.2.0",
            "_view_name": "LayoutView",
            "align_content": null,
            "align_items": null,
            "align_self": null,
            "border": null,
            "bottom": null,
            "display": null,
            "flex": null,
            "flex_flow": null,
            "grid_area": null,
            "grid_auto_columns": null,
            "grid_auto_flow": null,
            "grid_auto_rows": null,
            "grid_column": null,
            "grid_gap": null,
            "grid_row": null,
            "grid_template_areas": null,
            "grid_template_columns": null,
            "grid_template_rows": null,
            "height": null,
            "justify_content": null,
            "justify_items": null,
            "left": null,
            "margin": null,
            "max_height": null,
            "max_width": null,
            "min_height": null,
            "min_width": null,
            "object_fit": null,
            "object_position": null,
            "order": null,
            "overflow": null,
            "overflow_x": null,
            "overflow_y": null,
            "padding": null,
            "right": null,
            "top": null,
            "visibility": null,
            "width": null
          }
        },
        "16f072e20ca34dcdabcbb019ac87cfe6": {
          "model_module": "@jupyter-widgets/controls",
          "model_module_version": "1.5.0",
          "model_name": "DescriptionStyleModel",
          "state": {
            "_model_module": "@jupyter-widgets/controls",
            "_model_module_version": "1.5.0",
            "_model_name": "DescriptionStyleModel",
            "_view_count": null,
            "_view_module": "@jupyter-widgets/base",
            "_view_module_version": "1.2.0",
            "_view_name": "StyleView",
            "description_width": ""
          }
        },
        "17c90b9695b34299b088840bbfd05750": {
          "model_module": "@jupyter-widgets/controls",
          "model_module_version": "1.5.0",
          "model_name": "ProgressStyleModel",
          "state": {
            "_model_module": "@jupyter-widgets/controls",
            "_model_module_version": "1.5.0",
            "_model_name": "ProgressStyleModel",
            "_view_count": null,
            "_view_module": "@jupyter-widgets/base",
            "_view_module_version": "1.2.0",
            "_view_name": "StyleView",
            "bar_color": null,
            "description_width": ""
          }
        },
        "1824a54d9b994795a813541ddbb2ec75": {
          "model_module": "@jupyter-widgets/controls",
          "model_module_version": "1.5.0",
          "model_name": "HTMLModel",
          "state": {
            "_dom_classes": [],
            "_model_module": "@jupyter-widgets/controls",
            "_model_module_version": "1.5.0",
            "_model_name": "HTMLModel",
            "_view_count": null,
            "_view_module": "@jupyter-widgets/controls",
            "_view_module_version": "1.5.0",
            "_view_name": "HTMLView",
            "description": "",
            "description_tooltip": null,
            "layout": "IPY_MODEL_cb6233baa4774adda6eb8fe91c198371",
            "placeholder": "​",
            "style": "IPY_MODEL_16f072e20ca34dcdabcbb019ac87cfe6",
            "value": "vocab.txt: 100%"
          }
        },
        "23d0f24190324945b992bcfc1f1fb5b3": {
          "model_module": "@jupyter-widgets/base",
          "model_module_version": "1.2.0",
          "model_name": "LayoutModel",
          "state": {
            "_model_module": "@jupyter-widgets/base",
            "_model_module_version": "1.2.0",
            "_model_name": "LayoutModel",
            "_view_count": null,
            "_view_module": "@jupyter-widgets/base",
            "_view_module_version": "1.2.0",
            "_view_name": "LayoutView",
            "align_content": null,
            "align_items": null,
            "align_self": null,
            "border": null,
            "bottom": null,
            "display": null,
            "flex": null,
            "flex_flow": null,
            "grid_area": null,
            "grid_auto_columns": null,
            "grid_auto_flow": null,
            "grid_auto_rows": null,
            "grid_column": null,
            "grid_gap": null,
            "grid_row": null,
            "grid_template_areas": null,
            "grid_template_columns": null,
            "grid_template_rows": null,
            "height": null,
            "justify_content": null,
            "justify_items": null,
            "left": null,
            "margin": null,
            "max_height": null,
            "max_width": null,
            "min_height": null,
            "min_width": null,
            "object_fit": null,
            "object_position": null,
            "order": null,
            "overflow": null,
            "overflow_x": null,
            "overflow_y": null,
            "padding": null,
            "right": null,
            "top": null,
            "visibility": null,
            "width": null
          }
        },
        "24bc48c6cff346e28c4c97d1a39dbb9e": {
          "model_module": "@jupyter-widgets/base",
          "model_module_version": "1.2.0",
          "model_name": "LayoutModel",
          "state": {
            "_model_module": "@jupyter-widgets/base",
            "_model_module_version": "1.2.0",
            "_model_name": "LayoutModel",
            "_view_count": null,
            "_view_module": "@jupyter-widgets/base",
            "_view_module_version": "1.2.0",
            "_view_name": "LayoutView",
            "align_content": null,
            "align_items": null,
            "align_self": null,
            "border": null,
            "bottom": null,
            "display": null,
            "flex": null,
            "flex_flow": null,
            "grid_area": null,
            "grid_auto_columns": null,
            "grid_auto_flow": null,
            "grid_auto_rows": null,
            "grid_column": null,
            "grid_gap": null,
            "grid_row": null,
            "grid_template_areas": null,
            "grid_template_columns": null,
            "grid_template_rows": null,
            "height": null,
            "justify_content": null,
            "justify_items": null,
            "left": null,
            "margin": null,
            "max_height": null,
            "max_width": null,
            "min_height": null,
            "min_width": null,
            "object_fit": null,
            "object_position": null,
            "order": null,
            "overflow": null,
            "overflow_x": null,
            "overflow_y": null,
            "padding": null,
            "right": null,
            "top": null,
            "visibility": null,
            "width": null
          }
        },
        "287b2a0dd1954a09a871adc13e34e353": {
          "model_module": "@jupyter-widgets/controls",
          "model_module_version": "1.5.0",
          "model_name": "DescriptionStyleModel",
          "state": {
            "_model_module": "@jupyter-widgets/controls",
            "_model_module_version": "1.5.0",
            "_model_name": "DescriptionStyleModel",
            "_view_count": null,
            "_view_module": "@jupyter-widgets/base",
            "_view_module_version": "1.2.0",
            "_view_name": "StyleView",
            "description_width": ""
          }
        },
        "34e4fd5006eb4b8ebccdb5b7f14766bc": {
          "model_module": "@jupyter-widgets/base",
          "model_module_version": "1.2.0",
          "model_name": "LayoutModel",
          "state": {
            "_model_module": "@jupyter-widgets/base",
            "_model_module_version": "1.2.0",
            "_model_name": "LayoutModel",
            "_view_count": null,
            "_view_module": "@jupyter-widgets/base",
            "_view_module_version": "1.2.0",
            "_view_name": "LayoutView",
            "align_content": null,
            "align_items": null,
            "align_self": null,
            "border": null,
            "bottom": null,
            "display": null,
            "flex": null,
            "flex_flow": null,
            "grid_area": null,
            "grid_auto_columns": null,
            "grid_auto_flow": null,
            "grid_auto_rows": null,
            "grid_column": null,
            "grid_gap": null,
            "grid_row": null,
            "grid_template_areas": null,
            "grid_template_columns": null,
            "grid_template_rows": null,
            "height": null,
            "justify_content": null,
            "justify_items": null,
            "left": null,
            "margin": null,
            "max_height": null,
            "max_width": null,
            "min_height": null,
            "min_width": null,
            "object_fit": null,
            "object_position": null,
            "order": null,
            "overflow": null,
            "overflow_x": null,
            "overflow_y": null,
            "padding": null,
            "right": null,
            "top": null,
            "visibility": null,
            "width": null
          }
        },
        "3acc447d95904caeb7abc97a1af128e3": {
          "model_module": "@jupyter-widgets/controls",
          "model_module_version": "1.5.0",
          "model_name": "FloatProgressModel",
          "state": {
            "_dom_classes": [],
            "_model_module": "@jupyter-widgets/controls",
            "_model_module_version": "1.5.0",
            "_model_name": "FloatProgressModel",
            "_view_count": null,
            "_view_module": "@jupyter-widgets/controls",
            "_view_module_version": "1.5.0",
            "_view_name": "ProgressView",
            "bar_style": "success",
            "description": "",
            "description_tooltip": null,
            "layout": "IPY_MODEL_15d60d34286b468289db51850ebb2fa6",
            "max": 570,
            "min": 0,
            "orientation": "horizontal",
            "style": "IPY_MODEL_a320e445fdda475daacd9d873d437ff3",
            "value": 570
          }
        },
        "422d3b553e2e4a50a9d3f475d153f2c1": {
          "model_module": "@jupyter-widgets/base",
          "model_module_version": "1.2.0",
          "model_name": "LayoutModel",
          "state": {
            "_model_module": "@jupyter-widgets/base",
            "_model_module_version": "1.2.0",
            "_model_name": "LayoutModel",
            "_view_count": null,
            "_view_module": "@jupyter-widgets/base",
            "_view_module_version": "1.2.0",
            "_view_name": "LayoutView",
            "align_content": null,
            "align_items": null,
            "align_self": null,
            "border": null,
            "bottom": null,
            "display": null,
            "flex": null,
            "flex_flow": null,
            "grid_area": null,
            "grid_auto_columns": null,
            "grid_auto_flow": null,
            "grid_auto_rows": null,
            "grid_column": null,
            "grid_gap": null,
            "grid_row": null,
            "grid_template_areas": null,
            "grid_template_columns": null,
            "grid_template_rows": null,
            "height": null,
            "justify_content": null,
            "justify_items": null,
            "left": null,
            "margin": null,
            "max_height": null,
            "max_width": null,
            "min_height": null,
            "min_width": null,
            "object_fit": null,
            "object_position": null,
            "order": null,
            "overflow": null,
            "overflow_x": null,
            "overflow_y": null,
            "padding": null,
            "right": null,
            "top": null,
            "visibility": null,
            "width": null
          }
        },
        "4c7e56db49f2440c9f62bb91cf828da0": {
          "model_module": "@jupyter-widgets/controls",
          "model_module_version": "1.5.0",
          "model_name": "HTMLModel",
          "state": {
            "_dom_classes": [],
            "_model_module": "@jupyter-widgets/controls",
            "_model_module_version": "1.5.0",
            "_model_name": "HTMLModel",
            "_view_count": null,
            "_view_module": "@jupyter-widgets/controls",
            "_view_module_version": "1.5.0",
            "_view_name": "HTMLView",
            "description": "",
            "description_tooltip": null,
            "layout": "IPY_MODEL_5090399569b24a17a997d31879a308bf",
            "placeholder": "​",
            "style": "IPY_MODEL_287b2a0dd1954a09a871adc13e34e353",
            "value": " 466k/466k [00:00&lt;00:00, 3.58MB/s]"
          }
        },
        "4dddff1a036b43a9b160a45378ffa2c0": {
          "model_module": "@jupyter-widgets/controls",
          "model_module_version": "1.5.0",
          "model_name": "ProgressStyleModel",
          "state": {
            "_model_module": "@jupyter-widgets/controls",
            "_model_module_version": "1.5.0",
            "_model_name": "ProgressStyleModel",
            "_view_count": null,
            "_view_module": "@jupyter-widgets/base",
            "_view_module_version": "1.2.0",
            "_view_name": "StyleView",
            "bar_color": null,
            "description_width": ""
          }
        },
        "5090399569b24a17a997d31879a308bf": {
          "model_module": "@jupyter-widgets/base",
          "model_module_version": "1.2.0",
          "model_name": "LayoutModel",
          "state": {
            "_model_module": "@jupyter-widgets/base",
            "_model_module_version": "1.2.0",
            "_model_name": "LayoutModel",
            "_view_count": null,
            "_view_module": "@jupyter-widgets/base",
            "_view_module_version": "1.2.0",
            "_view_name": "LayoutView",
            "align_content": null,
            "align_items": null,
            "align_self": null,
            "border": null,
            "bottom": null,
            "display": null,
            "flex": null,
            "flex_flow": null,
            "grid_area": null,
            "grid_auto_columns": null,
            "grid_auto_flow": null,
            "grid_auto_rows": null,
            "grid_column": null,
            "grid_gap": null,
            "grid_row": null,
            "grid_template_areas": null,
            "grid_template_columns": null,
            "grid_template_rows": null,
            "height": null,
            "justify_content": null,
            "justify_items": null,
            "left": null,
            "margin": null,
            "max_height": null,
            "max_width": null,
            "min_height": null,
            "min_width": null,
            "object_fit": null,
            "object_position": null,
            "order": null,
            "overflow": null,
            "overflow_x": null,
            "overflow_y": null,
            "padding": null,
            "right": null,
            "top": null,
            "visibility": null,
            "width": null
          }
        },
        "52c0eab9d0ee40f581bd8bcf56349ab3": {
          "model_module": "@jupyter-widgets/controls",
          "model_module_version": "1.5.0",
          "model_name": "HBoxModel",
          "state": {
            "_dom_classes": [],
            "_model_module": "@jupyter-widgets/controls",
            "_model_module_version": "1.5.0",
            "_model_name": "HBoxModel",
            "_view_count": null,
            "_view_module": "@jupyter-widgets/controls",
            "_view_module_version": "1.5.0",
            "_view_name": "HBoxView",
            "box_style": "",
            "children": [
              "IPY_MODEL_c3e5bbc1263b41ba8cccd18d0b3ad7d1",
              "IPY_MODEL_3acc447d95904caeb7abc97a1af128e3",
              "IPY_MODEL_c41f16347a1c4d15b252e83fce1cf119"
            ],
            "layout": "IPY_MODEL_fc7f29c877144ec3816f574937f89d3d"
          }
        },
        "55f5ae2d262843b7b87bb1eb5397cbec": {
          "model_module": "@jupyter-widgets/controls",
          "model_module_version": "1.5.0",
          "model_name": "DescriptionStyleModel",
          "state": {
            "_model_module": "@jupyter-widgets/controls",
            "_model_module_version": "1.5.0",
            "_model_name": "DescriptionStyleModel",
            "_view_count": null,
            "_view_module": "@jupyter-widgets/base",
            "_view_module_version": "1.2.0",
            "_view_name": "StyleView",
            "description_width": ""
          }
        },
        "60a5770d0f87403c9d5e8ff31311914e": {
          "model_module": "@jupyter-widgets/controls",
          "model_module_version": "1.5.0",
          "model_name": "DescriptionStyleModel",
          "state": {
            "_model_module": "@jupyter-widgets/controls",
            "_model_module_version": "1.5.0",
            "_model_name": "DescriptionStyleModel",
            "_view_count": null,
            "_view_module": "@jupyter-widgets/base",
            "_view_module_version": "1.2.0",
            "_view_name": "StyleView",
            "description_width": ""
          }
        },
        "6bba9f30dc82401ea661e12a70254aec": {
          "model_module": "@jupyter-widgets/controls",
          "model_module_version": "1.5.0",
          "model_name": "HTMLModel",
          "state": {
            "_dom_classes": [],
            "_model_module": "@jupyter-widgets/controls",
            "_model_module_version": "1.5.0",
            "_model_name": "HTMLModel",
            "_view_count": null,
            "_view_module": "@jupyter-widgets/controls",
            "_view_module_version": "1.5.0",
            "_view_name": "HTMLView",
            "description": "",
            "description_tooltip": null,
            "layout": "IPY_MODEL_aa39a25188044bf69a63ccec2c209d9d",
            "placeholder": "​",
            "style": "IPY_MODEL_60a5770d0f87403c9d5e8ff31311914e",
            "value": " 232k/232k [00:00&lt;00:00, 2.68MB/s]"
          }
        },
        "79b6cf8cec024a138405e9b0fc65b298": {
          "model_module": "@jupyter-widgets/controls",
          "model_module_version": "1.5.0",
          "model_name": "ProgressStyleModel",
          "state": {
            "_model_module": "@jupyter-widgets/controls",
            "_model_module_version": "1.5.0",
            "_model_name": "ProgressStyleModel",
            "_view_count": null,
            "_view_module": "@jupyter-widgets/base",
            "_view_module_version": "1.2.0",
            "_view_name": "StyleView",
            "bar_color": null,
            "description_width": ""
          }
        },
        "7baa4bcc4c514f93a12a30f21aa3ffb6": {
          "model_module": "@jupyter-widgets/controls",
          "model_module_version": "1.5.0",
          "model_name": "DescriptionStyleModel",
          "state": {
            "_model_module": "@jupyter-widgets/controls",
            "_model_module_version": "1.5.0",
            "_model_name": "DescriptionStyleModel",
            "_view_count": null,
            "_view_module": "@jupyter-widgets/base",
            "_view_module_version": "1.2.0",
            "_view_name": "StyleView",
            "description_width": ""
          }
        },
        "85901ec72b1b43669bfb0a72990c37ff": {
          "model_module": "@jupyter-widgets/base",
          "model_module_version": "1.2.0",
          "model_name": "LayoutModel",
          "state": {
            "_model_module": "@jupyter-widgets/base",
            "_model_module_version": "1.2.0",
            "_model_name": "LayoutModel",
            "_view_count": null,
            "_view_module": "@jupyter-widgets/base",
            "_view_module_version": "1.2.0",
            "_view_name": "LayoutView",
            "align_content": null,
            "align_items": null,
            "align_self": null,
            "border": null,
            "bottom": null,
            "display": null,
            "flex": null,
            "flex_flow": null,
            "grid_area": null,
            "grid_auto_columns": null,
            "grid_auto_flow": null,
            "grid_auto_rows": null,
            "grid_column": null,
            "grid_gap": null,
            "grid_row": null,
            "grid_template_areas": null,
            "grid_template_columns": null,
            "grid_template_rows": null,
            "height": null,
            "justify_content": null,
            "justify_items": null,
            "left": null,
            "margin": null,
            "max_height": null,
            "max_width": null,
            "min_height": null,
            "min_width": null,
            "object_fit": null,
            "object_position": null,
            "order": null,
            "overflow": null,
            "overflow_x": null,
            "overflow_y": null,
            "padding": null,
            "right": null,
            "top": null,
            "visibility": null,
            "width": null
          }
        },
        "8c94f736f03a4e0ebca043e5860e6403": {
          "model_module": "@jupyter-widgets/base",
          "model_module_version": "1.2.0",
          "model_name": "LayoutModel",
          "state": {
            "_model_module": "@jupyter-widgets/base",
            "_model_module_version": "1.2.0",
            "_model_name": "LayoutModel",
            "_view_count": null,
            "_view_module": "@jupyter-widgets/base",
            "_view_module_version": "1.2.0",
            "_view_name": "LayoutView",
            "align_content": null,
            "align_items": null,
            "align_self": null,
            "border": null,
            "bottom": null,
            "display": null,
            "flex": null,
            "flex_flow": null,
            "grid_area": null,
            "grid_auto_columns": null,
            "grid_auto_flow": null,
            "grid_auto_rows": null,
            "grid_column": null,
            "grid_gap": null,
            "grid_row": null,
            "grid_template_areas": null,
            "grid_template_columns": null,
            "grid_template_rows": null,
            "height": null,
            "justify_content": null,
            "justify_items": null,
            "left": null,
            "margin": null,
            "max_height": null,
            "max_width": null,
            "min_height": null,
            "min_width": null,
            "object_fit": null,
            "object_position": null,
            "order": null,
            "overflow": null,
            "overflow_x": null,
            "overflow_y": null,
            "padding": null,
            "right": null,
            "top": null,
            "visibility": null,
            "width": null
          }
        },
        "904d5872e5c24085af7b20667fa76d67": {
          "model_module": "@jupyter-widgets/controls",
          "model_module_version": "1.5.0",
          "model_name": "HTMLModel",
          "state": {
            "_dom_classes": [],
            "_model_module": "@jupyter-widgets/controls",
            "_model_module_version": "1.5.0",
            "_model_name": "HTMLModel",
            "_view_count": null,
            "_view_module": "@jupyter-widgets/controls",
            "_view_module_version": "1.5.0",
            "_view_name": "HTMLView",
            "description": "",
            "description_tooltip": null,
            "layout": "IPY_MODEL_ff279e4c278143ee92f3f63ff75bb50f",
            "placeholder": "​",
            "style": "IPY_MODEL_55f5ae2d262843b7b87bb1eb5397cbec",
            "value": "tokenizer.json: 100%"
          }
        },
        "9e293e1a2d4d47729d23f422fa85356b": {
          "model_module": "@jupyter-widgets/controls",
          "model_module_version": "1.5.0",
          "model_name": "HBoxModel",
          "state": {
            "_dom_classes": [],
            "_model_module": "@jupyter-widgets/controls",
            "_model_module_version": "1.5.0",
            "_model_name": "HBoxModel",
            "_view_count": null,
            "_view_module": "@jupyter-widgets/controls",
            "_view_module_version": "1.5.0",
            "_view_name": "HBoxView",
            "box_style": "",
            "children": [
              "IPY_MODEL_1824a54d9b994795a813541ddbb2ec75",
              "IPY_MODEL_f29af2d9a42746beaa3158a7688ee092",
              "IPY_MODEL_6bba9f30dc82401ea661e12a70254aec"
            ],
            "layout": "IPY_MODEL_c34a859c43a44e97b967532022cd21d6"
          }
        },
        "a320e445fdda475daacd9d873d437ff3": {
          "model_module": "@jupyter-widgets/controls",
          "model_module_version": "1.5.0",
          "model_name": "ProgressStyleModel",
          "state": {
            "_model_module": "@jupyter-widgets/controls",
            "_model_module_version": "1.5.0",
            "_model_name": "ProgressStyleModel",
            "_view_count": null,
            "_view_module": "@jupyter-widgets/base",
            "_view_module_version": "1.2.0",
            "_view_name": "StyleView",
            "bar_color": null,
            "description_width": ""
          }
        },
        "aa39a25188044bf69a63ccec2c209d9d": {
          "model_module": "@jupyter-widgets/base",
          "model_module_version": "1.2.0",
          "model_name": "LayoutModel",
          "state": {
            "_model_module": "@jupyter-widgets/base",
            "_model_module_version": "1.2.0",
            "_model_name": "LayoutModel",
            "_view_count": null,
            "_view_module": "@jupyter-widgets/base",
            "_view_module_version": "1.2.0",
            "_view_name": "LayoutView",
            "align_content": null,
            "align_items": null,
            "align_self": null,
            "border": null,
            "bottom": null,
            "display": null,
            "flex": null,
            "flex_flow": null,
            "grid_area": null,
            "grid_auto_columns": null,
            "grid_auto_flow": null,
            "grid_auto_rows": null,
            "grid_column": null,
            "grid_gap": null,
            "grid_row": null,
            "grid_template_areas": null,
            "grid_template_columns": null,
            "grid_template_rows": null,
            "height": null,
            "justify_content": null,
            "justify_items": null,
            "left": null,
            "margin": null,
            "max_height": null,
            "max_width": null,
            "min_height": null,
            "min_width": null,
            "object_fit": null,
            "object_position": null,
            "order": null,
            "overflow": null,
            "overflow_x": null,
            "overflow_y": null,
            "padding": null,
            "right": null,
            "top": null,
            "visibility": null,
            "width": null
          }
        },
        "aca29a8bf2ff409eb848908b7a46ec98": {
          "model_module": "@jupyter-widgets/controls",
          "model_module_version": "1.5.0",
          "model_name": "HTMLModel",
          "state": {
            "_dom_classes": [],
            "_model_module": "@jupyter-widgets/controls",
            "_model_module_version": "1.5.0",
            "_model_name": "HTMLModel",
            "_view_count": null,
            "_view_module": "@jupyter-widgets/controls",
            "_view_module_version": "1.5.0",
            "_view_name": "HTMLView",
            "description": "",
            "description_tooltip": null,
            "layout": "IPY_MODEL_422d3b553e2e4a50a9d3f475d153f2c1",
            "placeholder": "​",
            "style": "IPY_MODEL_7baa4bcc4c514f93a12a30f21aa3ffb6",
            "value": "tokenizer_config.json: 100%"
          }
        },
        "acd3cfa28b234324b97d5656622ea1a4": {
          "model_module": "@jupyter-widgets/base",
          "model_module_version": "1.2.0",
          "model_name": "LayoutModel",
          "state": {
            "_model_module": "@jupyter-widgets/base",
            "_model_module_version": "1.2.0",
            "_model_name": "LayoutModel",
            "_view_count": null,
            "_view_module": "@jupyter-widgets/base",
            "_view_module_version": "1.2.0",
            "_view_name": "LayoutView",
            "align_content": null,
            "align_items": null,
            "align_self": null,
            "border": null,
            "bottom": null,
            "display": null,
            "flex": null,
            "flex_flow": null,
            "grid_area": null,
            "grid_auto_columns": null,
            "grid_auto_flow": null,
            "grid_auto_rows": null,
            "grid_column": null,
            "grid_gap": null,
            "grid_row": null,
            "grid_template_areas": null,
            "grid_template_columns": null,
            "grid_template_rows": null,
            "height": null,
            "justify_content": null,
            "justify_items": null,
            "left": null,
            "margin": null,
            "max_height": null,
            "max_width": null,
            "min_height": null,
            "min_width": null,
            "object_fit": null,
            "object_position": null,
            "order": null,
            "overflow": null,
            "overflow_x": null,
            "overflow_y": null,
            "padding": null,
            "right": null,
            "top": null,
            "visibility": null,
            "width": null
          }
        },
        "b3a627af61844f5592e954cf9d344799": {
          "model_module": "@jupyter-widgets/base",
          "model_module_version": "1.2.0",
          "model_name": "LayoutModel",
          "state": {
            "_model_module": "@jupyter-widgets/base",
            "_model_module_version": "1.2.0",
            "_model_name": "LayoutModel",
            "_view_count": null,
            "_view_module": "@jupyter-widgets/base",
            "_view_module_version": "1.2.0",
            "_view_name": "LayoutView",
            "align_content": null,
            "align_items": null,
            "align_self": null,
            "border": null,
            "bottom": null,
            "display": null,
            "flex": null,
            "flex_flow": null,
            "grid_area": null,
            "grid_auto_columns": null,
            "grid_auto_flow": null,
            "grid_auto_rows": null,
            "grid_column": null,
            "grid_gap": null,
            "grid_row": null,
            "grid_template_areas": null,
            "grid_template_columns": null,
            "grid_template_rows": null,
            "height": null,
            "justify_content": null,
            "justify_items": null,
            "left": null,
            "margin": null,
            "max_height": null,
            "max_width": null,
            "min_height": null,
            "min_width": null,
            "object_fit": null,
            "object_position": null,
            "order": null,
            "overflow": null,
            "overflow_x": null,
            "overflow_y": null,
            "padding": null,
            "right": null,
            "top": null,
            "visibility": null,
            "width": null
          }
        },
        "b461b48f0c7e495daf9d40fd0e7056ef": {
          "model_module": "@jupyter-widgets/base",
          "model_module_version": "1.2.0",
          "model_name": "LayoutModel",
          "state": {
            "_model_module": "@jupyter-widgets/base",
            "_model_module_version": "1.2.0",
            "_model_name": "LayoutModel",
            "_view_count": null,
            "_view_module": "@jupyter-widgets/base",
            "_view_module_version": "1.2.0",
            "_view_name": "LayoutView",
            "align_content": null,
            "align_items": null,
            "align_self": null,
            "border": null,
            "bottom": null,
            "display": null,
            "flex": null,
            "flex_flow": null,
            "grid_area": null,
            "grid_auto_columns": null,
            "grid_auto_flow": null,
            "grid_auto_rows": null,
            "grid_column": null,
            "grid_gap": null,
            "grid_row": null,
            "grid_template_areas": null,
            "grid_template_columns": null,
            "grid_template_rows": null,
            "height": null,
            "justify_content": null,
            "justify_items": null,
            "left": null,
            "margin": null,
            "max_height": null,
            "max_width": null,
            "min_height": null,
            "min_width": null,
            "object_fit": null,
            "object_position": null,
            "order": null,
            "overflow": null,
            "overflow_x": null,
            "overflow_y": null,
            "padding": null,
            "right": null,
            "top": null,
            "visibility": null,
            "width": null
          }
        },
        "b8a08744ffd0491e9ea8f40519a2a402": {
          "model_module": "@jupyter-widgets/controls",
          "model_module_version": "1.5.0",
          "model_name": "HTMLModel",
          "state": {
            "_dom_classes": [],
            "_model_module": "@jupyter-widgets/controls",
            "_model_module_version": "1.5.0",
            "_model_name": "HTMLModel",
            "_view_count": null,
            "_view_module": "@jupyter-widgets/controls",
            "_view_module_version": "1.5.0",
            "_view_name": "HTMLView",
            "description": "",
            "description_tooltip": null,
            "layout": "IPY_MODEL_b3a627af61844f5592e954cf9d344799",
            "placeholder": "​",
            "style": "IPY_MODEL_d7bc16e29276448298e8d0a867a0fffe",
            "value": " 48.0/48.0 [00:00&lt;00:00, 2.75kB/s]"
          }
        },
        "bf0fd8a79e4441bb9ef5d233aeb96053": {
          "model_module": "@jupyter-widgets/controls",
          "model_module_version": "1.5.0",
          "model_name": "FloatProgressModel",
          "state": {
            "_dom_classes": [],
            "_model_module": "@jupyter-widgets/controls",
            "_model_module_version": "1.5.0",
            "_model_name": "FloatProgressModel",
            "_view_count": null,
            "_view_module": "@jupyter-widgets/controls",
            "_view_module_version": "1.5.0",
            "_view_name": "ProgressView",
            "bar_style": "success",
            "description": "",
            "description_tooltip": null,
            "layout": "IPY_MODEL_acd3cfa28b234324b97d5656622ea1a4",
            "max": 466062,
            "min": 0,
            "orientation": "horizontal",
            "style": "IPY_MODEL_17c90b9695b34299b088840bbfd05750",
            "value": 466062
          }
        },
        "c34a859c43a44e97b967532022cd21d6": {
          "model_module": "@jupyter-widgets/base",
          "model_module_version": "1.2.0",
          "model_name": "LayoutModel",
          "state": {
            "_model_module": "@jupyter-widgets/base",
            "_model_module_version": "1.2.0",
            "_model_name": "LayoutModel",
            "_view_count": null,
            "_view_module": "@jupyter-widgets/base",
            "_view_module_version": "1.2.0",
            "_view_name": "LayoutView",
            "align_content": null,
            "align_items": null,
            "align_self": null,
            "border": null,
            "bottom": null,
            "display": null,
            "flex": null,
            "flex_flow": null,
            "grid_area": null,
            "grid_auto_columns": null,
            "grid_auto_flow": null,
            "grid_auto_rows": null,
            "grid_column": null,
            "grid_gap": null,
            "grid_row": null,
            "grid_template_areas": null,
            "grid_template_columns": null,
            "grid_template_rows": null,
            "height": null,
            "justify_content": null,
            "justify_items": null,
            "left": null,
            "margin": null,
            "max_height": null,
            "max_width": null,
            "min_height": null,
            "min_width": null,
            "object_fit": null,
            "object_position": null,
            "order": null,
            "overflow": null,
            "overflow_x": null,
            "overflow_y": null,
            "padding": null,
            "right": null,
            "top": null,
            "visibility": null,
            "width": null
          }
        },
        "c3e5bbc1263b41ba8cccd18d0b3ad7d1": {
          "model_module": "@jupyter-widgets/controls",
          "model_module_version": "1.5.0",
          "model_name": "HTMLModel",
          "state": {
            "_dom_classes": [],
            "_model_module": "@jupyter-widgets/controls",
            "_model_module_version": "1.5.0",
            "_model_name": "HTMLModel",
            "_view_count": null,
            "_view_module": "@jupyter-widgets/controls",
            "_view_module_version": "1.5.0",
            "_view_name": "HTMLView",
            "description": "",
            "description_tooltip": null,
            "layout": "IPY_MODEL_b461b48f0c7e495daf9d40fd0e7056ef",
            "placeholder": "​",
            "style": "IPY_MODEL_f35a5dd3cbfe4838a965eefa9d675db4",
            "value": "config.json: 100%"
          }
        },
        "c41f16347a1c4d15b252e83fce1cf119": {
          "model_module": "@jupyter-widgets/controls",
          "model_module_version": "1.5.0",
          "model_name": "HTMLModel",
          "state": {
            "_dom_classes": [],
            "_model_module": "@jupyter-widgets/controls",
            "_model_module_version": "1.5.0",
            "_model_name": "HTMLModel",
            "_view_count": null,
            "_view_module": "@jupyter-widgets/controls",
            "_view_module_version": "1.5.0",
            "_view_name": "HTMLView",
            "description": "",
            "description_tooltip": null,
            "layout": "IPY_MODEL_24bc48c6cff346e28c4c97d1a39dbb9e",
            "placeholder": "​",
            "style": "IPY_MODEL_da10e1504c2b478f99c38ba4fbf8c5f4",
            "value": " 570/570 [00:00&lt;00:00, 26.3kB/s]"
          }
        },
        "ca96a3871d544d59b5b9782a9a6d4a97": {
          "model_module": "@jupyter-widgets/controls",
          "model_module_version": "1.5.0",
          "model_name": "FloatProgressModel",
          "state": {
            "_dom_classes": [],
            "_model_module": "@jupyter-widgets/controls",
            "_model_module_version": "1.5.0",
            "_model_name": "FloatProgressModel",
            "_view_count": null,
            "_view_module": "@jupyter-widgets/controls",
            "_view_module_version": "1.5.0",
            "_view_name": "ProgressView",
            "bar_style": "success",
            "description": "",
            "description_tooltip": null,
            "layout": "IPY_MODEL_34e4fd5006eb4b8ebccdb5b7f14766bc",
            "max": 48,
            "min": 0,
            "orientation": "horizontal",
            "style": "IPY_MODEL_79b6cf8cec024a138405e9b0fc65b298",
            "value": 48
          }
        },
        "cb6233baa4774adda6eb8fe91c198371": {
          "model_module": "@jupyter-widgets/base",
          "model_module_version": "1.2.0",
          "model_name": "LayoutModel",
          "state": {
            "_model_module": "@jupyter-widgets/base",
            "_model_module_version": "1.2.0",
            "_model_name": "LayoutModel",
            "_view_count": null,
            "_view_module": "@jupyter-widgets/base",
            "_view_module_version": "1.2.0",
            "_view_name": "LayoutView",
            "align_content": null,
            "align_items": null,
            "align_self": null,
            "border": null,
            "bottom": null,
            "display": null,
            "flex": null,
            "flex_flow": null,
            "grid_area": null,
            "grid_auto_columns": null,
            "grid_auto_flow": null,
            "grid_auto_rows": null,
            "grid_column": null,
            "grid_gap": null,
            "grid_row": null,
            "grid_template_areas": null,
            "grid_template_columns": null,
            "grid_template_rows": null,
            "height": null,
            "justify_content": null,
            "justify_items": null,
            "left": null,
            "margin": null,
            "max_height": null,
            "max_width": null,
            "min_height": null,
            "min_width": null,
            "object_fit": null,
            "object_position": null,
            "order": null,
            "overflow": null,
            "overflow_x": null,
            "overflow_y": null,
            "padding": null,
            "right": null,
            "top": null,
            "visibility": null,
            "width": null
          }
        },
        "d57ea2d5ff50467d9a2bb3ceb49b8c78": {
          "model_module": "@jupyter-widgets/controls",
          "model_module_version": "1.5.0",
          "model_name": "HBoxModel",
          "state": {
            "_dom_classes": [],
            "_model_module": "@jupyter-widgets/controls",
            "_model_module_version": "1.5.0",
            "_model_name": "HBoxModel",
            "_view_count": null,
            "_view_module": "@jupyter-widgets/controls",
            "_view_module_version": "1.5.0",
            "_view_name": "HBoxView",
            "box_style": "",
            "children": [
              "IPY_MODEL_904d5872e5c24085af7b20667fa76d67",
              "IPY_MODEL_bf0fd8a79e4441bb9ef5d233aeb96053",
              "IPY_MODEL_4c7e56db49f2440c9f62bb91cf828da0"
            ],
            "layout": "IPY_MODEL_85901ec72b1b43669bfb0a72990c37ff"
          }
        },
        "d7bc16e29276448298e8d0a867a0fffe": {
          "model_module": "@jupyter-widgets/controls",
          "model_module_version": "1.5.0",
          "model_name": "DescriptionStyleModel",
          "state": {
            "_model_module": "@jupyter-widgets/controls",
            "_model_module_version": "1.5.0",
            "_model_name": "DescriptionStyleModel",
            "_view_count": null,
            "_view_module": "@jupyter-widgets/base",
            "_view_module_version": "1.2.0",
            "_view_name": "StyleView",
            "description_width": ""
          }
        },
        "da10e1504c2b478f99c38ba4fbf8c5f4": {
          "model_module": "@jupyter-widgets/controls",
          "model_module_version": "1.5.0",
          "model_name": "DescriptionStyleModel",
          "state": {
            "_model_module": "@jupyter-widgets/controls",
            "_model_module_version": "1.5.0",
            "_model_name": "DescriptionStyleModel",
            "_view_count": null,
            "_view_module": "@jupyter-widgets/base",
            "_view_module_version": "1.2.0",
            "_view_name": "StyleView",
            "description_width": ""
          }
        },
        "f29af2d9a42746beaa3158a7688ee092": {
          "model_module": "@jupyter-widgets/controls",
          "model_module_version": "1.5.0",
          "model_name": "FloatProgressModel",
          "state": {
            "_dom_classes": [],
            "_model_module": "@jupyter-widgets/controls",
            "_model_module_version": "1.5.0",
            "_model_name": "FloatProgressModel",
            "_view_count": null,
            "_view_module": "@jupyter-widgets/controls",
            "_view_module_version": "1.5.0",
            "_view_name": "ProgressView",
            "bar_style": "success",
            "description": "",
            "description_tooltip": null,
            "layout": "IPY_MODEL_8c94f736f03a4e0ebca043e5860e6403",
            "max": 231508,
            "min": 0,
            "orientation": "horizontal",
            "style": "IPY_MODEL_4dddff1a036b43a9b160a45378ffa2c0",
            "value": 231508
          }
        },
        "f35a5dd3cbfe4838a965eefa9d675db4": {
          "model_module": "@jupyter-widgets/controls",
          "model_module_version": "1.5.0",
          "model_name": "DescriptionStyleModel",
          "state": {
            "_model_module": "@jupyter-widgets/controls",
            "_model_module_version": "1.5.0",
            "_model_name": "DescriptionStyleModel",
            "_view_count": null,
            "_view_module": "@jupyter-widgets/base",
            "_view_module_version": "1.2.0",
            "_view_name": "StyleView",
            "description_width": ""
          }
        },
        "fc7f29c877144ec3816f574937f89d3d": {
          "model_module": "@jupyter-widgets/base",
          "model_module_version": "1.2.0",
          "model_name": "LayoutModel",
          "state": {
            "_model_module": "@jupyter-widgets/base",
            "_model_module_version": "1.2.0",
            "_model_name": "LayoutModel",
            "_view_count": null,
            "_view_module": "@jupyter-widgets/base",
            "_view_module_version": "1.2.0",
            "_view_name": "LayoutView",
            "align_content": null,
            "align_items": null,
            "align_self": null,
            "border": null,
            "bottom": null,
            "display": null,
            "flex": null,
            "flex_flow": null,
            "grid_area": null,
            "grid_auto_columns": null,
            "grid_auto_flow": null,
            "grid_auto_rows": null,
            "grid_column": null,
            "grid_gap": null,
            "grid_row": null,
            "grid_template_areas": null,
            "grid_template_columns": null,
            "grid_template_rows": null,
            "height": null,
            "justify_content": null,
            "justify_items": null,
            "left": null,
            "margin": null,
            "max_height": null,
            "max_width": null,
            "min_height": null,
            "min_width": null,
            "object_fit": null,
            "object_position": null,
            "order": null,
            "overflow": null,
            "overflow_x": null,
            "overflow_y": null,
            "padding": null,
            "right": null,
            "top": null,
            "visibility": null,
            "width": null
          }
        },
        "ff279e4c278143ee92f3f63ff75bb50f": {
          "model_module": "@jupyter-widgets/base",
          "model_module_version": "1.2.0",
          "model_name": "LayoutModel",
          "state": {
            "_model_module": "@jupyter-widgets/base",
            "_model_module_version": "1.2.0",
            "_model_name": "LayoutModel",
            "_view_count": null,
            "_view_module": "@jupyter-widgets/base",
            "_view_module_version": "1.2.0",
            "_view_name": "LayoutView",
            "align_content": null,
            "align_items": null,
            "align_self": null,
            "border": null,
            "bottom": null,
            "display": null,
            "flex": null,
            "flex_flow": null,
            "grid_area": null,
            "grid_auto_columns": null,
            "grid_auto_flow": null,
            "grid_auto_rows": null,
            "grid_column": null,
            "grid_gap": null,
            "grid_row": null,
            "grid_template_areas": null,
            "grid_template_columns": null,
            "grid_template_rows": null,
            "height": null,
            "justify_content": null,
            "justify_items": null,
            "left": null,
            "margin": null,
            "max_height": null,
            "max_width": null,
            "min_height": null,
            "min_width": null,
            "object_fit": null,
            "object_position": null,
            "order": null,
            "overflow": null,
            "overflow_x": null,
            "overflow_y": null,
            "padding": null,
            "right": null,
            "top": null,
            "visibility": null,
            "width": null
          }
        }
      }
    }
  },
  "nbformat": 4,
  "nbformat_minor": 5
}